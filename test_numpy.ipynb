{
 "cells": [
  {
   "cell_type": "code",
   "execution_count": 1,
   "id": "9cc852a8",
   "metadata": {},
   "outputs": [],
   "source": [
    "import numpy as np"
   ]
  },
  {
   "cell_type": "code",
   "execution_count": 2,
   "id": "677108ee",
   "metadata": {},
   "outputs": [],
   "source": [
    "    n = 2\n",
    "    m = 12\n",
    "\n",
    "    lx = ly = 750000\n",
    "    x = np.linspace(-lx, lx, n)\n",
    "    y = np.linspace(-ly, ly, n)\n",
    "    t = (np.arange(12) + 0.5) / 12\n",
    "\n",
    "    # assign temperature and precipitation values\n",
    "    (yy, xx) = np.meshgrid(y, x)\n",
    "    temp = np.zeros((m, n, n))\n",
    "    prec = np.zeros((m, n, n))\n",
    "    stdv = np.zeros((m, n, n))\n",
    "    for i in range(len(t)):\n",
    "        temp[i] = -10 * yy / ly - 5 * np.cos(i * 2 * np.pi / 12)\n",
    "        prec[i] = xx / lx * (np.sign(xx) - np.cos(i * 2 * np.pi / 12))\n",
    "        stdv[i] = (2 + xx / lx - yy / ly) * (1 - np.cos(i * 2 * np.pi / 12))\n",
    "\n",
    "    T_obs = temp.reshape(m, -1)\n",
    "    P_obs = prec.reshape(m, -1)\n",
    "    S_obs = stdv.reshape(m, -1)\n",
    "\n",
    "    temp_snow=0.0\n",
    "    temp_rain=2.0\n"
   ]
  },
  {
   "cell_type": "code",
   "execution_count": 3,
   "id": "559b1b2e",
   "metadata": {},
   "outputs": [],
   "source": [
    "    def f_inst_pdd(temp, stdv):\n",
    "        \"\"\"Compute instantaneous positive degree days from temperature.\n",
    "\n",
    "        Use near-surface air temperature and standard deviation to compute\n",
    "        instantaneous positive degree days (effective temperature for melt,\n",
    "        unit degrees C) using an integral formulation (Calov and Greve, 2005).\n",
    "\n",
    "        *temp*: array_like\n",
    "            Near-surface air temperature in degrees Celcius.\n",
    "        *stdv*: array_like\n",
    "            Standard deviation of near-surface air temperature in Kelvin.\n",
    "        \"\"\"\n",
    "        import scipy.special as sp\n",
    "\n",
    "        # compute positive part of temperature everywhere\n",
    "        positivepart = np.greater(temp, 0) * temp\n",
    "\n",
    "        # compute Calov and Greve (2005) integrand, ignoring division by zero\n",
    "        with np.errstate(divide=\"ignore\", invalid=\"ignore\"):\n",
    "            normtemp = temp / (np.sqrt(2) * stdv)\n",
    "        calovgreve = stdv / np.sqrt(2 * np.pi) * np.exp(\n",
    "            -(normtemp**2)\n",
    "        ) + temp / 2 * sp.erfc(-normtemp)\n",
    "\n",
    "        # use positive part where sigma is zero and Calov and Greve elsewhere\n",
    "        teff = np.where(stdv == 0.0, positivepart, calovgreve)\n",
    "\n",
    "        # convert to degree-days\n",
    "        return teff * 365.242198781\n",
    "\n",
    "    def f_accu_rate(temp, prec):\n",
    "        \"\"\"Compute accumulation rate from temperature and precipitation.\n",
    "\n",
    "        The fraction of precipitation that falls as snow decreases linearly\n",
    "        from one to zero between temperature thresholds defined by the\n",
    "        `temp_snow` and `temp_rain` attributes.\n",
    "\n",
    "        *temp*: array_like\n",
    "            Near-surface air temperature in degrees Celcius.\n",
    "        *prec*: array_like\n",
    "            Precipitation rate in meter per year.\n",
    "        \"\"\"\n",
    "\n",
    "        # compute snow fraction as a function of temperature\n",
    "        reduced_temp = (temp_rain - temp) / (temp_rain - temp_snow)\n",
    "        snowfrac = np.clip(reduced_temp, 0, 1)\n",
    "\n",
    "        # return accumulation rate\n",
    "        return snowfrac * prec\n",
    "\n",
    "    def f_melt_rates(snow, pdd):\n",
    "        \"\"\"Compute melt rates from snow precipitation and pdd sum.\n",
    "\n",
    "        Snow melt is computed from the number of positive degree days (*pdd*)\n",
    "        and the `pdd_factor_snow` model attribute. If all snow is melted and\n",
    "        some energy (PDD) remains, ice melt is computed using `pdd_factor_ice`.\n",
    "\n",
    "        *snow*: array_like\n",
    "            Snow precipitation rate.\n",
    "        *pdd*: array_like\n",
    "            Number of positive degree days.\n",
    "        \"\"\"\n",
    "\n",
    "        # parse model parameters for readability\n",
    "        ddf_snow = 3 / 1000\n",
    "        ddf_ice = 8 / 1000\n",
    "\n",
    "        # compute a potential snow melt\n",
    "        pot_snow_melt = ddf_snow * pdd\n",
    "\n",
    "        # effective snow melt can't exceed amount of snow\n",
    "        snow_melt = np.minimum(snow, pot_snow_melt)\n",
    "\n",
    "        # ice melt is proportional to excess snow melt\n",
    "        ice_melt = (pot_snow_melt - snow_melt) * ddf_ice / ddf_snow\n",
    "\n",
    "        # return melt rates\n",
    "        return (snow_melt, ice_melt)\n"
   ]
  },
  {
   "cell_type": "code",
   "execution_count": 4,
   "id": "46d78e8d",
   "metadata": {},
   "outputs": [],
   "source": [
    "        temp = T_obs\n",
    "        prec = P_obs\n",
    "        stdv = S_obs\n",
    "        # compute accumulation and pdd\n",
    "        accu_rate = f_accu_rate(temp, prec)\n",
    "        inst_pdd = f_inst_pdd(temp, stdv)\n",
    "\n",
    "        # initialize snow depth, melt and refreeze rates\n",
    "        snow_depth = np.zeros_like(temp)\n",
    "        snow_melt_rate = np.zeros_like(temp)\n",
    "        ice_melt_rate = np.zeros_like(temp)\n",
    "        snow_refreeze_rate = np.zeros_like(temp)\n",
    "        ice_refreeze_rate = np.zeros_like(temp)\n"
   ]
  },
  {
   "cell_type": "code",
   "execution_count": 65,
   "id": "7780148d",
   "metadata": {},
   "outputs": [
    {
     "name": "stdout",
     "output_type": "stream",
     "text": [
      "/Users/andy/base/summer-school-2022/pdd_estimation\n"
     ]
    }
   ],
   "source": [
    "cd pdd_estimation/"
   ]
  },
  {
   "cell_type": "code",
   "execution_count": 79,
   "id": "3a1de21a",
   "metadata": {},
   "outputs": [
    {
     "name": "stdout",
     "output_type": "stream",
     "text": [
      "-------------------------------------------\n",
      "Variantional Inference of PDD parameters\n",
      "-------------------------------------------\n",
      "\n",
      "Trying to recover:\n",
      "f_snow=2.6, f_ice=12, f_refreeze=0.25\n",
      "\n",
      "-------------------------------------------\n",
      "Setting up SVI\n",
      "Iteration 0 loss: 2084.917408900847\n",
      "Recovered parameters\n",
      "f_snow_loc 2.67\n",
      "f_snow_scale 1.03\n",
      "f_ice_loc 6.81\n",
      "f_ice_scale 1.09\n",
      "f_refreeze_loc 0.44\n",
      "f_refreeze_scale 0.10\n",
      "Unexpected exception formatting exception. Falling back to standard exception\n"
     ]
    },
    {
     "name": "stderr",
     "output_type": "stream",
     "text": [
      "Traceback (most recent call last):\n",
      "  File \"/opt/local/Library/Frameworks/Python.framework/Versions/3.10/lib/python3.10/site-packages/IPython/core/interactiveshell.py\", line 2727, in safe_execfile\n",
      "    py3compat.execfile(\n",
      "  File \"/opt/local/Library/Frameworks/Python.framework/Versions/3.10/lib/python3.10/site-packages/IPython/utils/py3compat.py\", line 55, in execfile\n",
      "    exec(compiler(f.read(), fname, \"exec\"), glob, loc)\n",
      "  File \"/Users/andy/base/summer-school-2022/pdd_estimation/MCMC_pyro_inversion.py\", line 955, in <module>\n",
      "    fig.savefig(f\"climate_{climate}_snow_{fs}_ice_{fi}_refreeze_{fr}.pdf\")\n",
      "  File \"/opt/local/Library/Frameworks/Python.framework/Versions/3.10/lib/python3.10/site-packages/matplotlib/figure.py\", line 3046, in savefig\n",
      "    self.canvas.print_figure(fname, **kwargs)\n",
      "  File \"/opt/local/Library/Frameworks/Python.framework/Versions/3.10/lib/python3.10/site-packages/matplotlib/backend_bases.py\", line 2319, in print_figure\n",
      "    result = print_method(\n",
      "  File \"/opt/local/Library/Frameworks/Python.framework/Versions/3.10/lib/python3.10/site-packages/matplotlib/backend_bases.py\", line 1648, in wrapper\n",
      "    return func(*args, **kwargs)\n",
      "  File \"/opt/local/Library/Frameworks/Python.framework/Versions/3.10/lib/python3.10/site-packages/matplotlib/_api/deprecation.py\", line 389, in wrapper\n",
      "    return func(*inner_args, **inner_kwargs)\n",
      "  File \"/opt/local/Library/Frameworks/Python.framework/Versions/3.10/lib/python3.10/site-packages/matplotlib/backends/backend_pdf.py\", line 2790, in print_pdf\n",
      "    self.figure.draw(renderer)\n",
      "  File \"/opt/local/Library/Frameworks/Python.framework/Versions/3.10/lib/python3.10/site-packages/matplotlib/artist.py\", line 73, in draw_wrapper\n",
      "    result = draw(artist, renderer, *args, **kwargs)\n",
      "  File \"/opt/local/Library/Frameworks/Python.framework/Versions/3.10/lib/python3.10/site-packages/matplotlib/artist.py\", line 50, in draw_wrapper\n",
      "    return draw(artist, renderer)\n",
      "  File \"/opt/local/Library/Frameworks/Python.framework/Versions/3.10/lib/python3.10/site-packages/matplotlib/figure.py\", line 2837, in draw\n",
      "    mimage._draw_list_compositing_images(\n",
      "  File \"/opt/local/Library/Frameworks/Python.framework/Versions/3.10/lib/python3.10/site-packages/matplotlib/image.py\", line 132, in _draw_list_compositing_images\n",
      "    a.draw(renderer)\n",
      "  File \"/opt/local/Library/Frameworks/Python.framework/Versions/3.10/lib/python3.10/site-packages/matplotlib/artist.py\", line 50, in draw_wrapper\n",
      "    return draw(artist, renderer)\n",
      "  File \"/opt/local/Library/Frameworks/Python.framework/Versions/3.10/lib/python3.10/site-packages/matplotlib/axes/_base.py\", line 3091, in draw\n",
      "    mimage._draw_list_compositing_images(\n",
      "  File \"/opt/local/Library/Frameworks/Python.framework/Versions/3.10/lib/python3.10/site-packages/matplotlib/image.py\", line 132, in _draw_list_compositing_images\n",
      "    a.draw(renderer)\n",
      "  File \"/opt/local/Library/Frameworks/Python.framework/Versions/3.10/lib/python3.10/site-packages/matplotlib/artist.py\", line 50, in draw_wrapper\n",
      "    return draw(artist, renderer)\n",
      "  File \"/opt/local/Library/Frameworks/Python.framework/Versions/3.10/lib/python3.10/site-packages/matplotlib/legend.py\", line 620, in draw\n",
      "    bbox = self._legend_box.get_window_extent(renderer)\n",
      "  File \"/opt/local/Library/Frameworks/Python.framework/Versions/3.10/lib/python3.10/site-packages/matplotlib/offsetbox.py\", line 351, in get_window_extent\n",
      "    px, py = self.get_offset(w, h, xd, yd, renderer)\n",
      "  File \"/opt/local/Library/Frameworks/Python.framework/Versions/3.10/lib/python3.10/site-packages/matplotlib/offsetbox.py\", line 290, in get_offset\n",
      "    return (self._offset(width, height, xdescent, ydescent, renderer)\n",
      "  File \"/opt/local/Library/Frameworks/Python.framework/Versions/3.10/lib/python3.10/site-packages/matplotlib/legend.py\", line 589, in _findoffset\n",
      "    x, y = self._find_best_position(width, height, renderer)\n",
      "  File \"/opt/local/Library/Frameworks/Python.framework/Versions/3.10/lib/python3.10/site-packages/matplotlib/legend.py\", line 1030, in _find_best_position\n",
      "    badness = (sum(legendBox.count_contains(line.vertices)\n",
      "  File \"/opt/local/Library/Frameworks/Python.framework/Versions/3.10/lib/python3.10/site-packages/matplotlib/legend.py\", line 1030, in <genexpr>\n",
      "    badness = (sum(legendBox.count_contains(line.vertices)\n",
      "  File \"/opt/local/Library/Frameworks/Python.framework/Versions/3.10/lib/python3.10/site-packages/matplotlib/transforms.py\", line 607, in count_contains\n",
      "    (vertices < self.max)).all(axis=1).sum())\n",
      "  File \"/opt/local/Library/Frameworks/Python.framework/Versions/3.10/lib/python3.10/site-packages/matplotlib/transforms.py\", line 351, in max\n",
      "    @property\n",
      "KeyboardInterrupt\n",
      "\n",
      "During handling of the above exception, another exception occurred:\n",
      "\n",
      "Traceback (most recent call last):\n",
      "  File \"/opt/local/Library/Frameworks/Python.framework/Versions/3.10/lib/python3.10/site-packages/IPython/core/interactiveshell.py\", line 1982, in showtraceback\n",
      "    stb = self.InteractiveTB.structured_traceback(\n",
      "  File \"/opt/local/Library/Frameworks/Python.framework/Versions/3.10/lib/python3.10/site-packages/IPython/core/ultratb.py\", line 1118, in structured_traceback\n",
      "    return FormattedTB.structured_traceback(\n",
      "  File \"/opt/local/Library/Frameworks/Python.framework/Versions/3.10/lib/python3.10/site-packages/IPython/core/ultratb.py\", line 1012, in structured_traceback\n",
      "    return VerboseTB.structured_traceback(\n",
      "  File \"/opt/local/Library/Frameworks/Python.framework/Versions/3.10/lib/python3.10/site-packages/IPython/core/ultratb.py\", line 865, in structured_traceback\n",
      "    formatted_exception = self.format_exception_as_a_whole(etype, evalue, etb, number_of_lines_of_context,\n",
      "  File \"/opt/local/Library/Frameworks/Python.framework/Versions/3.10/lib/python3.10/site-packages/IPython/core/ultratb.py\", line 818, in format_exception_as_a_whole\n",
      "    frames.append(self.format_record(r))\n",
      "  File \"/opt/local/Library/Frameworks/Python.framework/Versions/3.10/lib/python3.10/site-packages/IPython/core/ultratb.py\", line 736, in format_record\n",
      "    result += ''.join(_format_traceback_lines(frame_info.lines, Colors, self.has_colors, lvals))\n",
      "  File \"/opt/local/Library/Frameworks/Python.framework/Versions/3.10/lib/python3.10/site-packages/stack_data/utils.py\", line 145, in cached_property_wrapper\n",
      "    value = obj.__dict__[self.func.__name__] = self.func(obj)\n",
      "  File \"/opt/local/Library/Frameworks/Python.framework/Versions/3.10/lib/python3.10/site-packages/stack_data/core.py\", line 698, in lines\n",
      "    pieces = self.included_pieces\n",
      "  File \"/opt/local/Library/Frameworks/Python.framework/Versions/3.10/lib/python3.10/site-packages/stack_data/utils.py\", line 145, in cached_property_wrapper\n",
      "    value = obj.__dict__[self.func.__name__] = self.func(obj)\n",
      "  File \"/opt/local/Library/Frameworks/Python.framework/Versions/3.10/lib/python3.10/site-packages/stack_data/core.py\", line 649, in included_pieces\n",
      "    pos = scope_pieces.index(self.executing_piece)\n",
      "  File \"/opt/local/Library/Frameworks/Python.framework/Versions/3.10/lib/python3.10/site-packages/stack_data/utils.py\", line 145, in cached_property_wrapper\n",
      "    value = obj.__dict__[self.func.__name__] = self.func(obj)\n",
      "  File \"/opt/local/Library/Frameworks/Python.framework/Versions/3.10/lib/python3.10/site-packages/stack_data/core.py\", line 628, in executing_piece\n",
      "    return only(\n",
      "  File \"/opt/local/Library/Frameworks/Python.framework/Versions/3.10/lib/python3.10/site-packages/executing/executing.py\", line 164, in only\n",
      "    raise NotOneValueFound('Expected one value, found 0')\n",
      "executing.executing.NotOneValueFound: Expected one value, found 0\n"
     ]
    },
    {
     "data": {
      "image/png": "[encoded data removed]",
      "text/plain": [
       "<Figure size 864x288 with 2 Axes>"
      ]
     },
     "metadata": {
      "needs_background": "light"
     },
     "output_type": "display_data"
    }
   ],
   "source": [
    "run MCMC_pyro_inversion.py --max_epochs 10"
   ]
  },
  {
   "cell_type": "code",
   "execution_count": 70,
   "id": "f496cd65",
   "metadata": {},
   "outputs": [],
   "source": [
    "pdd = PDDModel()\n",
    "r_o = pdd(T_obs, P_obs, std_dev)"
   ]
  },
  {
   "cell_type": "code",
   "execution_count": 73,
   "id": "64253455",
   "metadata": {},
   "outputs": [
    {
     "data": {
      "text/plain": [
       "array([29.79230484, 23.17179265, 16.20389302, 10.01147597,  5.55481792,\n",
       "        2.15266727,  0.29830317,  0.        ,  0.        ,  0.        ,\n",
       "       29.79230484, 23.17179265, 16.28109023, 10.16704274,  5.74280543,\n",
       "        2.36186148,  0.29830317,  0.        ,  0.        ,  0.        ,\n",
       "       29.79230484, 23.17179265, 16.35828744, 10.32260951,  5.93079294,\n",
       "        2.57354325,  0.29830317,  0.        ,  0.        ,  0.        ,\n",
       "       29.79230484, 23.17179265, 16.43548465, 10.47918016,  6.12060196,\n",
       "        2.78522503,  0.46260876,  0.        ,  0.        ,  0.        ,\n",
       "       29.79230484, 23.17179265, 16.51268186, 10.64388899,  6.3155365 ,\n",
       "        2.9969068 ,  0.68451967,  0.        ,  0.        ,  0.        ,\n",
       "       29.79230484, 23.17179265, 16.54974025, 10.71643136,  6.38997809,\n",
       "        3.06029671,  0.70291654,  0.        ,  0.        ,  0.        ,\n",
       "       29.79230484, 23.17179265, 16.54665981, 10.69680728,  6.34392673,\n",
       "        2.97539475,  0.5286936 ,  0.        ,  0.        ,  0.        ,\n",
       "       29.79230484, 23.17179265, 16.54357937, 10.67718319,  6.29836953,\n",
       "        2.89385888,  0.35695502,  0.        ,  0.        ,  0.        ,\n",
       "       29.79230484, 23.17179265, 16.54049893, 10.65755911,  6.25741266,\n",
       "        2.81642439,  0.29830317,  0.        ,  0.        ,  0.        ,\n",
       "       29.79230484, 23.17179265, 16.5374185 , 10.63793503,  6.21645579,\n",
       "        2.7389899 ,  0.29830317,  0.        ,  0.        ,  0.        ])"
      ]
     },
     "execution_count": 73,
     "metadata": {},
     "output_type": "execute_result"
    }
   ],
   "source": [
    "r_o[\"melt\"]"
   ]
  },
  {
   "cell_type": "code",
   "execution_count": 80,
   "id": "1375c6e1",
   "metadata": {},
   "outputs": [],
   "source": [
    "pdd_t = TorchPDDModel()\n",
    "r_t = pdd_t(T_obs, P_obs, std_dev)"
   ]
  },
  {
   "cell_type": "code",
   "execution_count": 82,
   "id": "81a1d3fd",
   "metadata": {},
   "outputs": [
    {
     "data": {
      "text/plain": [
       "torch.Size([100])"
      ]
     },
     "execution_count": 82,
     "metadata": {},
     "output_type": "execute_result"
    }
   ],
   "source": [
    "r_t[\"melt\"].shape"
   ]
  },
  {
   "cell_type": "code",
   "execution_count": 83,
   "id": "b585f6da",
   "metadata": {},
   "outputs": [
    {
     "name": "stdout",
     "output_type": "stream",
     "text": [
      "\u001b[H\u001b[2J"
     ]
    }
   ],
   "source": [
    "clear"
   ]
  },
  {
   "cell_type": "code",
   "execution_count": null,
   "id": "8a410db0",
   "metadata": {},
   "outputs": [],
   "source": []
  }
 ],
 "metadata": {
  "kernelspec": {
   "display_name": "Python 3 (ipykernel)",
   "language": "python",
   "name": "python3"
  },
  "language_info": {
   "codemirror_mode": {
    "name": "ipython",
    "version": 3
   },
   "file_extension": ".py",
   "mimetype": "text/x-python",
   "name": "python",
   "nbconvert_exporter": "python",
   "pygments_lexer": "ipython3",
   "version": "3.10.4"
  }
 },
 "nbformat": 4,
 "nbformat_minor": 5
}
