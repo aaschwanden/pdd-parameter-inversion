{
 "cells": [
  {
   "cell_type": "code",
   "execution_count": 1,
   "id": "9cc852a8",
   "metadata": {},
   "outputs": [],
   "source": [
    "import numpy as np"
   ]
  },
  {
   "cell_type": "code",
   "execution_count": 2,
   "id": "677108ee",
   "metadata": {},
   "outputs": [],
   "source": [
    "    n = 2\n",
    "    m = 12\n",
    "\n",
    "    lx = ly = 750000\n",
    "    x = np.linspace(-lx, lx, n)\n",
    "    y = np.linspace(-ly, ly, n)\n",
    "    t = (np.arange(12) + 0.5) / 12\n",
    "\n",
    "    # assign temperature and precipitation values\n",
    "    (yy, xx) = np.meshgrid(y, x)\n",
    "    temp = np.zeros((m, n, n))\n",
    "    prec = np.zeros((m, n, n))\n",
    "    stdv = np.zeros((m, n, n))\n",
    "    for i in range(len(t)):\n",
    "        temp[i] = -10 * yy / ly - 5 * np.cos(i * 2 * np.pi / 12)\n",
    "        prec[i] = xx / lx * (np.sign(xx) - np.cos(i * 2 * np.pi / 12))\n",
    "        stdv[i] = (2 + xx / lx - yy / ly) * (1 - np.cos(i * 2 * np.pi / 12))\n",
    "\n",
    "    T_obs = temp.reshape(m, -1)\n",
    "    P_obs = prec.reshape(m, -1)\n",
    "    S_obs = stdv.reshape(m, -1)\n",
    "\n",
    "    temp_snow=0.0\n",
    "    temp_rain=2.0\n"
   ]
  },
  {
   "cell_type": "code",
   "execution_count": 3,
   "id": "559b1b2e",
   "metadata": {},
   "outputs": [],
   "source": [
    "    def f_inst_pdd(temp, stdv):\n",
    "        \"\"\"Compute instantaneous positive degree days from temperature.\n",
    "\n",
    "        Use near-surface air temperature and standard deviation to compute\n",
    "        instantaneous positive degree days (effective temperature for melt,\n",
    "        unit degrees C) using an integral formulation (Calov and Greve, 2005).\n",
    "\n",
    "        *temp*: array_like\n",
    "            Near-surface air temperature in degrees Celcius.\n",
    "        *stdv*: array_like\n",
    "            Standard deviation of near-surface air temperature in Kelvin.\n",
    "        \"\"\"\n",
    "        import scipy.special as sp\n",
    "\n",
    "        # compute positive part of temperature everywhere\n",
    "        positivepart = np.greater(temp, 0) * temp\n",
    "\n",
    "        # compute Calov and Greve (2005) integrand, ignoring division by zero\n",
    "        with np.errstate(divide=\"ignore\", invalid=\"ignore\"):\n",
    "            normtemp = temp / (np.sqrt(2) * stdv)\n",
    "        calovgreve = stdv / np.sqrt(2 * np.pi) * np.exp(\n",
    "            -(normtemp**2)\n",
    "        ) + temp / 2 * sp.erfc(-normtemp)\n",
    "\n",
    "        # use positive part where sigma is zero and Calov and Greve elsewhere\n",
    "        teff = np.where(stdv == 0.0, positivepart, calovgreve)\n",
    "\n",
    "        # convert to degree-days\n",
    "        return teff * 365.242198781\n",
    "\n",
    "    def f_accu_rate(temp, prec):\n",
    "        \"\"\"Compute accumulation rate from temperature and precipitation.\n",
    "\n",
    "        The fraction of precipitation that falls as snow decreases linearly\n",
    "        from one to zero between temperature thresholds defined by the\n",
    "        `temp_snow` and `temp_rain` attributes.\n",
    "\n",
    "        *temp*: array_like\n",
    "            Near-surface air temperature in degrees Celcius.\n",
    "        *prec*: array_like\n",
    "            Precipitation rate in meter per year.\n",
    "        \"\"\"\n",
    "\n",
    "        # compute snow fraction as a function of temperature\n",
    "        reduced_temp = (temp_rain - temp) / (temp_rain - temp_snow)\n",
    "        snowfrac = np.clip(reduced_temp, 0, 1)\n",
    "\n",
    "        # return accumulation rate\n",
    "        return snowfrac * prec\n",
    "\n",
    "    def f_melt_rates(snow, pdd):\n",
    "        \"\"\"Compute melt rates from snow precipitation and pdd sum.\n",
    "\n",
    "        Snow melt is computed from the number of positive degree days (*pdd*)\n",
    "        and the `pdd_factor_snow` model attribute. If all snow is melted and\n",
    "        some energy (PDD) remains, ice melt is computed using `pdd_factor_ice`.\n",
    "\n",
    "        *snow*: array_like\n",
    "            Snow precipitation rate.\n",
    "        *pdd*: array_like\n",
    "            Number of positive degree days.\n",
    "        \"\"\"\n",
    "\n",
    "        # parse model parameters for readability\n",
    "        ddf_snow = 3 / 1000\n",
    "        ddf_ice = 8 / 1000\n",
    "\n",
    "        # compute a potential snow melt\n",
    "        pot_snow_melt = ddf_snow * pdd\n",
    "\n",
    "        # effective snow melt can't exceed amount of snow\n",
    "        snow_melt = np.minimum(snow, pot_snow_melt)\n",
    "\n",
    "        # ice melt is proportional to excess snow melt\n",
    "        ice_melt = (pot_snow_melt - snow_melt) * ddf_ice / ddf_snow\n",
    "\n",
    "        # return melt rates\n",
    "        return (snow_melt, ice_melt)\n"
   ]
  },
  {
   "cell_type": "code",
   "execution_count": 4,
   "id": "46d78e8d",
   "metadata": {},
   "outputs": [],
   "source": [
    "        temp = T_obs\n",
    "        prec = P_obs\n",
    "        stdv = S_obs\n",
    "        # compute accumulation and pdd\n",
    "        accu_rate = f_accu_rate(temp, prec)\n",
    "        inst_pdd = f_inst_pdd(temp, stdv)\n",
    "\n",
    "        # initialize snow depth, melt and refreeze rates\n",
    "        snow_depth = np.zeros_like(temp)\n",
    "        snow_melt_rate = np.zeros_like(temp)\n",
    "        ice_melt_rate = np.zeros_like(temp)\n",
    "        snow_refreeze_rate = np.zeros_like(temp)\n",
    "        ice_refreeze_rate = np.zeros_like(temp)\n"
   ]
  },
  {
   "cell_type": "code",
   "execution_count": 5,
   "id": "df89b591-6dd3-45b7-abda-506b1a0df52a",
   "metadata": {},
   "outputs": [
    {
     "data": {
      "text/plain": [
       "array([[  5.        , -15.        ,   5.        , -15.        ],\n",
       "       [  5.66987298, -14.33012702,   5.66987298, -14.33012702],\n",
       "       [  7.5       , -12.5       ,   7.5       , -12.5       ],\n",
       "       [ 10.        , -10.        ,  10.        , -10.        ],\n",
       "       [ 12.5       ,  -7.5       ,  12.5       ,  -7.5       ],\n",
       "       [ 14.33012702,  -5.66987298,  14.33012702,  -5.66987298],\n",
       "       [ 15.        ,  -5.        ,  15.        ,  -5.        ],\n",
       "       [ 14.33012702,  -5.66987298,  14.33012702,  -5.66987298],\n",
       "       [ 12.5       ,  -7.5       ,  12.5       ,  -7.5       ],\n",
       "       [ 10.        , -10.        ,  10.        , -10.        ],\n",
       "       [  7.5       , -12.5       ,   7.5       , -12.5       ],\n",
       "       [  5.66987298, -14.33012702,   5.66987298, -14.33012702]])"
      ]
     },
     "execution_count": 5,
     "metadata": {},
     "output_type": "execute_result"
    }
   ],
   "source": [
    "temp"
   ]
  },
  {
   "cell_type": "code",
   "execution_count": 6,
   "id": "31b2826a-5595-46db-95ac-e1614cbff64d",
   "metadata": {},
   "outputs": [
    {
     "name": "stdout",
     "output_type": "stream",
     "text": [
      "0\n",
      "1\n",
      "2\n",
      "3\n",
      "4\n",
      "5\n",
      "6\n",
      "7\n",
      "8\n",
      "9\n",
      "10\n",
      "11\n"
     ]
    }
   ],
   "source": [
    "for i in range(len(temp)):\n",
    "    print(i)"
   ]
  },
  {
   "cell_type": "code",
   "execution_count": 7,
   "id": "e7c315e6-bcc9-48df-8145-7b493be67fbb",
   "metadata": {},
   "outputs": [],
   "source": [
    "sd_changes = np.array([(snow_depth[i-1]+accu_rate[i])-f_melt_rates(snow_depth[i-1]+accu_rate[i],inst_pdd[i])[0] for i in range(len(temp))])"
   ]
  },
  {
   "cell_type": "code",
   "execution_count": 8,
   "id": "5555694c-b4ef-4fc7-ac29-8f2b49453d11",
   "metadata": {},
   "outputs": [
    {
     "data": {
      "text/plain": [
       "array([[ 0.        ,  3.8660254 ,  0.        ,  0.1339746 ],\n",
       "       [ 0.        ,  5.3660254 ,  0.        ,  0.6339746 ],\n",
       "       [ 0.        ,  6.3660254 ,  0.        ,  1.63397448],\n",
       "       [ 0.        ,  6.8660254 ,  0.        ,  3.12738652],\n",
       "       [ 0.        ,  7.        ,  0.        ,  4.87872607],\n",
       "       [ 0.        ,  7.        ,  0.        ,  6.65700856],\n",
       "       [ 0.        ,  7.1339746 ,  0.        ,  8.4083481 ],\n",
       "       [ 0.        ,  7.6339746 ,  0.        ,  9.90176014],\n",
       "       [ 0.        ,  8.6339746 ,  0.        , 10.90176003],\n",
       "       [ 0.        , 10.1339746 ,  0.        , 11.40176003],\n",
       "       [ 0.        , 12.        ,  0.        , 11.53573462]])"
      ]
     },
     "execution_count": 8,
     "metadata": {},
     "output_type": "execute_result"
    }
   ],
   "source": [
    "np.array([sd_changes[0:i+1].sum(0) for i in range(len(temp)) if i > 0])"
   ]
  },
  {
   "cell_type": "code",
   "execution_count": 9,
   "id": "7780148d",
   "metadata": {},
   "outputs": [
    {
     "name": "stdout",
     "output_type": "stream",
     "text": [
      "[[ 0.          2.          0.          0.        ]\n",
      " [ 0.          3.8660254   0.          0.1339746 ]\n",
      " [ 0.          5.3660254   0.          0.6339746 ]\n",
      " [ 0.          6.3660254   0.          1.63397448]\n",
      " [ 0.          6.8660254   0.          3.12738652]\n",
      " [ 0.          7.          0.          4.87872607]\n",
      " [ 0.          7.          0.          6.65700856]\n",
      " [ 0.          7.1339746   0.          8.4083481 ]\n",
      " [ 0.          7.6339746   0.          9.90176014]\n",
      " [ 0.          8.6339746   0.         10.90176003]\n",
      " [ 0.         10.1339746   0.         11.40176003]\n",
      " [ 0.         12.          0.         11.53573462]]\n"
     ]
    }
   ],
   "source": [
    "        # compute snow depth and melt rates\n",
    "        for i in range(len(temp)):\n",
    "            if i > 0:\n",
    "                snow_depth[i] = snow_depth[i - 1]\n",
    "            snow_depth[i] = snow_depth[i] + accu_rate[i]\n",
    "            snow_melt_rate[i], ice_melt_rate[i] = f_melt_rates(snow_depth[i], inst_pdd[i])\n",
    "            snow_depth[i] -= snow_melt_rate[i]\n",
    "print(snow_depth)"
   ]
  },
  {
   "cell_type": "code",
   "execution_count": null,
   "id": "3ffa8f04-4d1f-402f-80d9-cc7946b1b6ea",
   "metadata": {},
   "outputs": [],
   "source": []
  },
  {
   "cell_type": "code",
   "execution_count": null,
   "id": "06ba7e24-2364-48b6-a868-3479bcb2c248",
   "metadata": {},
   "outputs": [],
   "source": []
  }
 ],
 "metadata": {
  "kernelspec": {
   "display_name": "Python 3 (ipykernel)",
   "language": "python",
   "name": "python3"
  },
  "language_info": {
   "codemirror_mode": {
    "name": "ipython",
    "version": 3
   },
   "file_extension": ".py",
   "mimetype": "text/x-python",
   "name": "python",
   "nbconvert_exporter": "python",
   "pygments_lexer": "ipython3",
   "version": "3.10.4"
  }
 },
 "nbformat": 4,
 "nbformat_minor": 5
}
